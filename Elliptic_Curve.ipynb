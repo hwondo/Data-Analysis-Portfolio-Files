{
 "cells": [
  {
   "cell_type": "markdown",
   "metadata": {},
   "source": [
    "## Preliminary Functions"
   ]
  },
  {
   "cell_type": "markdown",
   "metadata": {},
   "source": [
    "Encoding and decoding function that converts a string into an integer. "
   ]
  },
  {
   "cell_type": "code",
   "execution_count": null,
   "metadata": {},
   "outputs": [],
   "source": [
    "# Function to encode a string into an integer\n",
    "def encode_message(m):\n",
    "    # Convert each character to an 8-bit binary string\n",
    "    bin_str = ''.join(format(ord(c), '08b') for c in m)\n",
    "    \n",
    "    # Convert the binary string into an integer\n",
    "    z = int(bin_str, 2)\n",
    "    return z\n",
    "\n",
    "\n",
    "# Function to decode integers into a string\n",
    "def decode_message(z):\n",
    "    # Convert the integer to a binary string\n",
    "    bin_str = bin(z)[2:]  # Strip the '0b' prefix\n",
    "    \n",
    "    # Ensure the binary string length is a multiple of 8\n",
    "    padding = len(bin_str) % 8\n",
    "    if padding != 0:\n",
    "        bin_str = '0' * (8 - padding) + bin_str\n",
    "    \n",
    "    # Split the binary string into 8-bit chunks and convert them to characters\n",
    "    decoded_message = ''.join([chr(int(bin_str[i:i + 8], 2)) for i in range(0, len(bin_str), 8)])\n",
    "    \n",
    "    return decoded_message"
   ]
  },
  {
   "cell_type": "markdown",
   "metadata": {},
   "source": [
    "Functions that invert in modular arithmetic. "
   ]
  },
  {
   "cell_type": "code",
   "execution_count": null,
   "metadata": {},
   "outputs": [],
   "source": [
    "# Function to find the modular inverse of a number a modulo m\n",
    "def Invert(a, m):\n",
    "    x, y, gcd = extended_gcd(a, m)\n",
    "    if gcd != 1:\n",
    "        return None  # check for no modular inverses\n",
    "    return x % m \n",
    "\n",
    "# Extended Euclidean Algorithm to find the greatest common divisor (GCD) and coefficients\n",
    "def extended_gcd(a, b):\n",
    "    if b == 0:\n",
    "        return 1, 0, a # base case\n",
    "    \n",
    "    x1, y1, gcd = extended_gcd(b, a % b) # induction\n",
    "\n",
    "    x, y = y1, x1 - (a // b) * y1 \n",
    "    return x, y, gcd\n"
   ]
  },
  {
   "cell_type": "markdown",
   "metadata": {},
   "source": [
    "Function for generating primes"
   ]
  },
  {
   "cell_type": "code",
   "execution_count": 32,
   "metadata": {},
   "outputs": [],
   "source": [
    "# Function for generating primes\n",
    "import sympy\n",
    "\n",
    "def generate_prime(bit_length):\n",
    "    \"\"\"Generates a prime number with the specified bit length.\"\"\"\n",
    "     \n",
    "    # Generate a random prime of the required bit length\n",
    "    prime = sympy.randprime(2**(bit_length - 1), 2**bit_length)\n",
    "\n",
    "    return prime"
   ]
  },
  {
   "cell_type": "markdown",
   "metadata": {},
   "source": [
    "## Elliptic Curve Cryptography"
   ]
  },
  {
   "cell_type": "markdown",
   "metadata": {},
   "source": [
    "Elliptic curve class"
   ]
  },
  {
   "cell_type": "code",
   "execution_count": 71,
   "metadata": {},
   "outputs": [],
   "source": [
    "## Elliptic Curve Class\n",
    "\n",
    "import secrets\n",
    "\n",
    "class EC:\n",
    "    def __init__(self, p, a, b):\n",
    "        \"\"\" \n",
    "        Class that defines an elliptic curve over mod\n",
    "        \"\"\"\n",
    "\n",
    "        if 4*pow(a,3)+27*pow(b,2) % p == 0:\n",
    "            raise ValueError(\"Curve has zero discriminant\")\n",
    "        else:\n",
    "            self.p = p\n",
    "            self.a = a % p\n",
    "            self.b = b % p\n",
    "\n",
    "    def check(self, point):\n",
    "        \"\"\" \n",
    "        Check point lies in the elliptic curve\n",
    "        \"\"\"\n",
    "        x, y = point\n",
    "\n",
    "        # Check to see if point is 'zero' \n",
    "        if point == [0,0]:\n",
    "            return True\n",
    "\n",
    "        # Calculate Y^2 and y^2\n",
    "        self.Y2 = (pow(x,3) + self.a*x + self.b) % self.p\n",
    "        self.y2 = pow(y,2) % self.p\n",
    "\n",
    "        # Check to see if non zero point is in curve\n",
    "        if  self.Y2 == self.y2:\n",
    "            return True\n",
    "        else:\n",
    "            return False\n",
    "\n",
    "\n",
    "    def add(self, point1, point2):\n",
    "        \"\"\" \n",
    "        Add two points on the elliptic curve: R = P + Q \n",
    "        \"\"\"\n",
    "        # Check points are on the elliptic curve\n",
    "        if self.check(point1) == False or self.check(point2) == False:\n",
    "            raise ValueError(\"One of the points are not on the elliptic curve.\")\n",
    "        \n",
    "        # Case where noe of the points is zero \n",
    "        if point1 == [0,0]:\n",
    "            return point2\n",
    "        elif point2 == [0,0]:\n",
    "            return point1\n",
    "        \n",
    "        # Unpack coordinates\n",
    "        x1, y1 = point1 \n",
    "        x2, y2 = point2\n",
    "\n",
    "        # Reduce coordinates in mod p\n",
    "        x1 = x1 % self.p\n",
    "        x2 = x2 % self.p\n",
    "        y1 = y1 % self.p\n",
    "        y2 = y2 % self.p\n",
    "\n",
    "        # Check if points are negatives of each other\n",
    "        if x1 == x2 and y1 == (-y2) % self.p:\n",
    "            return [0, 0]\n",
    "        else:\n",
    "            if point1 == point2: # point doubling\n",
    "                l1 = (3*pow(x1,2) + self.a) % self.p\n",
    "                l2 = (2*y1) % self.p\n",
    "                l = (l1*Invert(l2, self.p)) % self.p # calculate slope\n",
    "            else: # point addition\n",
    "                l1 = (y2-y1) % self.p\n",
    "                l2 = (x2-x1) % self.p\n",
    "                l = (l1*Invert(l2,self.p)) % self.p # calculate slope\n",
    "    \n",
    "        # Calculate the new coordinates\n",
    "        x3 = (pow(l,2)-x1-x2) % self.p\n",
    "        y3 = (l*(x1-x3) - y1) % self.p\n",
    "\n",
    "        return [x3, y3]\n",
    "    \n",
    "    def negate(self, point):\n",
    "        \"\"\" Negative multipliation on the elliptic curve (reflect over x-axis) \"\"\"\n",
    "        x, y = point\n",
    "        return [x, (-y) % self.p]\n",
    "\n",
    "    def subtract(self, point1, point2):\n",
    "        \"\"\" Subtract two points on the elliptic curve: P - Q = P + (-Q) \"\"\"\n",
    "        # Negate point2\n",
    "        neg_point2 = self.negate(point2)\n",
    "        # Add point1 and the negation of point2\n",
    "        return self.add(point1, neg_point2)\n",
    "\n",
    "\n",
    "    def double_add(self, point, n):\n",
    "        \"\"\"\n",
    "        Double and add method for scalar multiplication on elliptic curves.\n",
    "        \"\"\"\n",
    "        self.Q = point\n",
    "        self.R = [0, 0] \n",
    "\n",
    "        while n > 0:\n",
    "            if n % 2 == 1:  # If n is odd, add the current point to R\n",
    "                self.R = self.add(self.R, self.Q)\n",
    "            \n",
    "            # Double the point Q\n",
    "            self.Q = self.add(self.Q, self.Q)\n",
    "            \n",
    "            # Divide n by 2 (integer division)\n",
    "            n = n // 2\n",
    "        \n",
    "        return self.R\n",
    "    \n",
    "    \n",
    "            \n",
    "    def DF_key_exchange(self, Point, key):\n",
    "        \"\"\" \n",
    "        Function for key exchange\n",
    "        \"\"\"\n",
    "        return self.double_add(Point, key)\n",
    "    "
   ]
  },
  {
   "cell_type": "markdown",
   "metadata": {},
   "source": [
    "Elgamal Class"
   ]
  },
  {
   "cell_type": "code",
   "execution_count": 72,
   "metadata": {},
   "outputs": [],
   "source": [
    "import secrets\n",
    "\n",
    "class ElGamal:\n",
    "    def __init__(self, prime, coeff_a, coeff_b, Point):\n",
    "        # Create elliptic curve object\n",
    "        self.curve = EC(prime, coeff_a, coeff_b)\n",
    "\n",
    "        if self.curve.check(Point):\n",
    "            self.P = Point\n",
    "        else:\n",
    "            raise ValueError(\"Point chosen is not on specified elliptic curve.\")\n",
    "\n",
    "    def key(self, private_key):\n",
    "        \"\"\"\n",
    "        Generates the public key corresponding to the given private key.\n",
    "        \"\"\"\n",
    "        self.private_key = private_key\n",
    "        self.public_key = self.curve.double_add(self.P, self.private_key)\n",
    "        return self.public_key\n",
    "\n",
    "    def encrypt(self, public_key, plaintext):\n",
    "        \"\"\"\n",
    "        Encrypts a plaintext message using the public key.\n",
    "        \"\"\"\n",
    "        # Generate a random ephemeral key k\n",
    "        self.k = secrets.randbelow(self.curve.p)\n",
    "\n",
    "        # Calculate cipher texts\n",
    "        C1 = self.curve.double_add(self.P, self.k)\n",
    "        C2 = self.curve.add(plaintext, self.curve.double_add(public_key, self.k))\n",
    "\n",
    "        return [C1, C2]\n",
    "\n",
    "    def decrypt(self, ciphertext):\n",
    "        \"\"\"\n",
    "        Decrypts the ciphertext using the private key.\n",
    "        \"\"\"\n",
    "        C1, C2 = ciphertext\n",
    "        # Calculate d * C1, then subtract from C2 to get the plaintext\n",
    "        return self.curve.subtract(C2, self.curve.double_add(C1, self.private_key))\n"
   ]
  },
  {
   "cell_type": "markdown",
   "metadata": {},
   "source": [
    "Key Exchange example"
   ]
  },
  {
   "cell_type": "code",
   "execution_count": 75,
   "metadata": {},
   "outputs": [
    {
     "data": {
      "text/plain": [
       "True"
      ]
     },
     "execution_count": 75,
     "metadata": {},
     "output_type": "execute_result"
    }
   ],
   "source": [
    "## Diffie-Hellman key exchange \n",
    "\n",
    "# Choose public parameters \n",
    "p = 13\n",
    "a = 3\n",
    "b = 8\n",
    "P = [1,8]\n",
    "\n",
    "# Create elliptic curves\n",
    "Alice = EC(p,a,b)\n",
    "Bob = EC(p,a,b)\n",
    "\n",
    "# Alice chooses a secret key and creates a public key\n",
    "A = Alice.DF_key_exchange(P,10)\n",
    "\n",
    "# Bob chooses a secret key and creates a public key\n",
    "B = Bob.DF_key_exchange(P,8)\n",
    "\n",
    "# Both parties calculate the shared key\n",
    "key_A = Alice.DF_key_exchange(B,10)\n",
    "key_B = Bob.DF_key_exchange(A,8)\n",
    "\n",
    "key_A == key_B"
   ]
  },
  {
   "cell_type": "markdown",
   "metadata": {},
   "source": [
    "Elgamal example"
   ]
  },
  {
   "cell_type": "code",
   "execution_count": 78,
   "metadata": {},
   "outputs": [
    {
     "data": {
      "text/plain": [
       "[12, 11]"
      ]
     },
     "execution_count": 78,
     "metadata": {},
     "output_type": "execute_result"
    }
   ],
   "source": [
    "## Elgamal Elliptic Curve\n",
    "\n",
    "# Choose public parameters \n",
    "p = 13\n",
    "a = 3\n",
    "b = 8\n",
    "P = [1,8]\n",
    "\n",
    "# Create elliptic curves\n",
    "Alice = ElGamal(p,a,b,P)\n",
    "Bob = ElGamal(p,a,b,P)\n",
    "\n",
    "# Alice chooses a private key and generates a public key\n",
    "key = Alice.key(2)\n",
    "\n",
    "# Bob encodes a point using Alice's public key\n",
    "cipher_text = Bob.encrypt(key,[12,11])\n",
    "\n",
    "# Alice decrypts Bob's cypher text\n",
    "Alice.decrypt(cipher_text)\n"
   ]
  }
 ],
 "metadata": {
  "kernelspec": {
   "display_name": "base",
   "language": "python",
   "name": "python3"
  },
  "language_info": {
   "codemirror_mode": {
    "name": "ipython",
    "version": 3
   },
   "file_extension": ".py",
   "mimetype": "text/x-python",
   "name": "python",
   "nbconvert_exporter": "python",
   "pygments_lexer": "ipython3",
   "version": "3.9.7"
  }
 },
 "nbformat": 4,
 "nbformat_minor": 2
}
